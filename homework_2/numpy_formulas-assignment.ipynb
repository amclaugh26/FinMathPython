{
 "cells": [
  {
   "cell_type": "markdown",
   "id": "42386749-cee2-4789-992d-b9b4e60fccc3",
   "metadata": {},
   "source": [
    "# Convert common stats formulas to numpy\n",
    "\n",
    "Please convert the following common statistics formulas to numpy. I have provided a core Python implementation, which you can use to confirm that your solution is correct. Your task is use standard numpy techniques.\n",
    "\n",
    "You are not allowed to use `.mean()`, `.average()`, `.std()` or `.var()` for standard deviation and variance formulas (otherwise numpy makes it too easy to write many of these formulas and defeats the purpose of you thinking like an array programmer)."
   ]
  },
  {
   "cell_type": "code",
   "execution_count": 40,
   "id": "a1c9e69f-2805-45db-9856-c00efe25d3a3",
   "metadata": {},
   "outputs": [],
   "source": [
    "import math\n",
    "import numpy as np"
   ]
  },
  {
   "cell_type": "markdown",
   "id": "93688388-e2dc-4d61-ba24-1b292ac9777b",
   "metadata": {},
   "source": [
    "#### Sum\n",
    "$\\sum _{i=1}^{n}a_{i}$"
   ]
  },
  {
   "cell_type": "code",
   "execution_count": 41,
   "id": "1ab96d37-c768-4bb8-befb-cc36438961a3",
   "metadata": {},
   "outputs": [],
   "source": [
    "np.random.seed(1)\n",
    "scores_sum = np.random.randint(0, 100, size=25)"
   ]
  },
  {
   "cell_type": "code",
   "execution_count": 42,
   "id": "dfc11e46-5530-451b-8477-00b5c83d1b0d",
   "metadata": {},
   "outputs": [
    {
     "data": {
      "text/plain": [
       "np.int32(1007)"
      ]
     },
     "execution_count": 42,
     "metadata": {},
     "output_type": "execute_result"
    }
   ],
   "source": [
    "sum(scores_sum)"
   ]
  },
  {
   "cell_type": "code",
   "execution_count": 43,
   "id": "d7a3ef53-b556-4d43-977e-1b490a007bae",
   "metadata": {},
   "outputs": [
    {
     "data": {
      "text/plain": [
       "np.int32(1007)"
      ]
     },
     "execution_count": 43,
     "metadata": {},
     "output_type": "execute_result"
    }
   ],
   "source": [
    "total = 0\n",
    "for i in scores_sum:\n",
    "    total += i\n",
    "\n",
    "total\n"
   ]
  },
  {
   "cell_type": "code",
   "execution_count": 44,
   "id": "f6b9873c-d4a0-4022-906c-db4be70b965e",
   "metadata": {},
   "outputs": [
    {
     "data": {
      "text/plain": [
       "np.int64(1007)"
      ]
     },
     "execution_count": 44,
     "metadata": {},
     "output_type": "execute_result"
    }
   ],
   "source": [
    "#Answer\n",
    "total = np.add.reduce(scores_sum)\n",
    "total"
   ]
  },
  {
   "cell_type": "markdown",
   "id": "46e16652-0fa4-4565-84f5-8a1a636fd9bb",
   "metadata": {},
   "source": [
    "#### Expected value (equally likely)\n",
    "${\\frac {1}{n}}\\sum _{i=1}^{n}a_{i}$"
   ]
  },
  {
   "cell_type": "code",
   "execution_count": 45,
   "id": "4e1cda59-7cf7-4499-8238-43368103f370",
   "metadata": {},
   "outputs": [],
   "source": [
    "np.random.seed(2)\n",
    "scores_ev = np.random.randint(0, 100, size=25)"
   ]
  },
  {
   "cell_type": "code",
   "execution_count": 46,
   "id": "1d657113-4f02-404c-af58-743cae3296ff",
   "metadata": {},
   "outputs": [
    {
     "data": {
      "text/plain": [
       "np.float64(48.92)"
      ]
     },
     "execution_count": 46,
     "metadata": {},
     "output_type": "execute_result"
    }
   ],
   "source": [
    "total = 0\n",
    "for i in scores_ev:\n",
    "    total += i\n",
    "\n",
    "expected_value = total/len(scores_ev)\n",
    "expected_value"
   ]
  },
  {
   "cell_type": "code",
   "execution_count": 47,
   "id": "9abaa422-4c64-44de-987a-fb2c0ffbaa78",
   "metadata": {},
   "outputs": [
    {
     "data": {
      "text/plain": [
       "np.float64(48.92)"
      ]
     },
     "execution_count": 47,
     "metadata": {},
     "output_type": "execute_result"
    }
   ],
   "source": [
    "#Answer\n",
    "total = np.add.reduce(scores_ev)\n",
    "expected_value = total/np.size(scores_ev)\n",
    "expected_value"
   ]
  },
  {
   "cell_type": "markdown",
   "id": "b49b0951-d543-4b8b-89bb-9ad0fa507625",
   "metadata": {},
   "source": [
    "#### Sum of squares\n",
    "\n",
    "$\\sum (y - \\hat{y})^2$"
   ]
  },
  {
   "cell_type": "code",
   "execution_count": 48,
   "id": "5d88a1df-e00d-4dbd-a579-eb6694fdefde",
   "metadata": {},
   "outputs": [],
   "source": [
    "np.random.seed(3)\n",
    "\n",
    "scores_ssq = np.random.randint(0, 100, size=25)\n",
    "scores_yhat_ssq = np.random.randint(0, 100, size=25)"
   ]
  },
  {
   "cell_type": "code",
   "execution_count": 49,
   "id": "7ad48e80-a1a0-40a1-964d-d3cef1165d1d",
   "metadata": {},
   "outputs": [
    {
     "data": {
      "text/plain": [
       "np.int32(41573)"
      ]
     },
     "execution_count": 49,
     "metadata": {},
     "output_type": "execute_result"
    }
   ],
   "source": [
    "total = 0\n",
    "for y, y_hat in zip(scores_ssq, scores_yhat_ssq):\n",
    "    total += (y - y_hat) ** 2\n",
    "\n",
    "total"
   ]
  },
  {
   "cell_type": "code",
   "execution_count": 50,
   "id": "76beff1d-c310-4b8b-925b-08f3ea72fcf7",
   "metadata": {},
   "outputs": [
    {
     "data": {
      "text/plain": [
       "np.int64(41573)"
      ]
     },
     "execution_count": 50,
     "metadata": {},
     "output_type": "execute_result"
    }
   ],
   "source": [
    "#Answer\n",
    "differences = np.subtract(scores_ssq, scores_yhat_ssq)\n",
    "sum_square_differences = np.add.reduce(np.square(differences))\n",
    "sum_square_differences\n"
   ]
  },
  {
   "cell_type": "markdown",
   "id": "dc672e27-5ff6-4824-b336-3bd3ed8ad38b",
   "metadata": {},
   "source": [
    "#### Variance\n",
    "\n",
    "${\\frac{1}{N}\\sum\\limits_{i = 1}^N {\\left( {x_i - \\bar x} \\right)^2 } }$"
   ]
  },
  {
   "cell_type": "code",
   "execution_count": 51,
   "id": "07e17969-62ab-43f1-a3f3-3e657e5af3fa",
   "metadata": {},
   "outputs": [],
   "source": [
    "np.random.seed(4)\n",
    "scores_var = np.random.randint(0, 100, size=25)"
   ]
  },
  {
   "cell_type": "code",
   "execution_count": 52,
   "id": "18e5fa03-3b64-47d3-8d0b-cee19883a8d8",
   "metadata": {},
   "outputs": [
    {
     "data": {
      "text/plain": [
       "np.float64(616.4864000000001)"
      ]
     },
     "execution_count": 52,
     "metadata": {},
     "output_type": "execute_result"
    }
   ],
   "source": [
    "#Calculate mean\n",
    "total = 0\n",
    "for i in scores_var:\n",
    "    total += i\n",
    "\n",
    "mean = total / len(scores_var)\n",
    "\n",
    "total = 0\n",
    "for i in scores_var:\n",
    "    total += (i - mean)**2\n",
    "    \n",
    "variance = total / len(scores_var)\n",
    "variance"
   ]
  },
  {
   "cell_type": "code",
   "execution_count": 53,
   "id": "91f79b60-be63-4ec0-ac38-85b27b03f530",
   "metadata": {},
   "outputs": [
    {
     "data": {
      "text/plain": [
       "np.float64(616.4864)"
      ]
     },
     "execution_count": 53,
     "metadata": {},
     "output_type": "execute_result"
    }
   ],
   "source": [
    "#Answer\n",
    "mean = np.add.reduce(scores_var)/np.size(scores_var)\n",
    "variance = np.add.reduce(np.square(np.subtract(scores_var,mean)))/np.size(scores_var)\n",
    "variance"
   ]
  },
  {
   "cell_type": "markdown",
   "id": "6a1be0bf-6f85-4177-a1f1-b7b06f31d152",
   "metadata": {},
   "source": [
    "#### Standard Deviation\n",
    "$\\sqrt {\\frac{1}{N}\\sum\\limits_{i = 1}^N {\\left( {x_i - \\bar x} \\right)^2 } }$"
   ]
  },
  {
   "cell_type": "code",
   "execution_count": 54,
   "id": "fb775603-a319-4aaa-bcab-7e02a94cdf2a",
   "metadata": {},
   "outputs": [],
   "source": [
    "np.random.seed(5)\n",
    "scores_stddev = np.random.randint(0, 100, size=25)"
   ]
  },
  {
   "cell_type": "code",
   "execution_count": 55,
   "id": "7050b831-44ea-4458-aa7c-0583b52c7841",
   "metadata": {},
   "outputs": [
    {
     "data": {
      "text/plain": [
       "27.735205065043232"
      ]
     },
     "execution_count": 55,
     "metadata": {},
     "output_type": "execute_result"
    }
   ],
   "source": [
    "#Calculate mean\n",
    "total = 0\n",
    "for i in scores_stddev:\n",
    "    total += i\n",
    "\n",
    "mean = total / len(scores_stddev)\n",
    "\n",
    "total = 0\n",
    "for i in scores_stddev:\n",
    "    total += (i - mean)**2\n",
    "    \n",
    "variance = total / len(scores_stddev)\n",
    "std_dev = math.sqrt(variance)\n",
    "std_dev"
   ]
  },
  {
   "cell_type": "code",
   "execution_count": 56,
   "id": "9ffbc6b4-a7da-4405-973f-181963024d2d",
   "metadata": {},
   "outputs": [
    {
     "data": {
      "text/plain": [
       "np.float64(27.73520506504324)"
      ]
     },
     "execution_count": 56,
     "metadata": {},
     "output_type": "execute_result"
    }
   ],
   "source": [
    "#Answer\n",
    "mean = np.add.reduce(scores_stddev)/np.size(scores_stddev)\n",
    "variance = np.add.reduce(np.square(np.subtract(scores_stddev,mean)))/np.size(scores_stddev)\n",
    "std_dev = np.sqrt(variance)\n",
    "std_dev"
   ]
  },
  {
   "cell_type": "markdown",
   "id": "aee504c6-7c12-4e3a-acff-8e8aabba6009",
   "metadata": {},
   "source": [
    "#### Expected value, with provided probabilities\n",
    "$\\sum xP$"
   ]
  },
  {
   "cell_type": "code",
   "execution_count": 57,
   "id": "95147b99-f463-4c00-a398-794ce747a712",
   "metadata": {},
   "outputs": [],
   "source": [
    "np.random.seed(6)\n",
    "scores_ev2 = np.random.randint(0, 100, size=25)\n",
    "\n",
    "probs_ev2 = np.random.random(25)\n",
    "probs_ev2 = probs_ev2 / probs_ev2.sum()"
   ]
  },
  {
   "cell_type": "code",
   "execution_count": 58,
   "id": "6cace27e-2f2b-4524-95e4-95f710762624",
   "metadata": {},
   "outputs": [
    {
     "data": {
      "text/plain": [
       "np.float64(52.04016029579092)"
      ]
     },
     "execution_count": 58,
     "metadata": {},
     "output_type": "execute_result"
    }
   ],
   "source": [
    "expected_value = 0\n",
    "for score, prob in zip(scores_ev2, probs_ev2):\n",
    "    expected_value += score * prob\n",
    "\n",
    "expected_value"
   ]
  },
  {
   "cell_type": "code",
   "execution_count": 59,
   "id": "6484bfba-dc4b-48c2-92d5-6b604ab2a333",
   "metadata": {},
   "outputs": [
    {
     "data": {
      "text/plain": [
       "np.float64(52.04016029579092)"
      ]
     },
     "execution_count": 59,
     "metadata": {},
     "output_type": "execute_result"
    }
   ],
   "source": [
    "#Answer\n",
    "\n",
    "expected_value = np.add.reduce(np.multiply(scores_ev2,probs_ev2))\n",
    "expected_value"
   ]
  },
  {
   "cell_type": "markdown",
   "id": "92be716f-f03e-4187-8185-0a9b35974912",
   "metadata": {},
   "source": [
    "**Latex formulas resource**\n",
    "* https://latex.codecogs.com/eqneditor/editor.php\n",
    "* https://equplus.net/eqninfo/Equation-264.html\n",
    "* https://gist.github.com/derekmcloughlin/896da22518ef2f3d81b0\n",
    "* https://www.overleaf.com/learn/latex/Integrals%2C_sums_and_limits#Sums_and_products"
   ]
  },
  {
   "cell_type": "code",
   "execution_count": null,
   "id": "81352f0b-aa25-446c-8c0c-edc90bf654af",
   "metadata": {},
   "outputs": [],
   "source": []
  }
 ],
 "metadata": {
  "kernelspec": {
   "display_name": "base",
   "language": "python",
   "name": "python3"
  },
  "language_info": {
   "codemirror_mode": {
    "name": "ipython",
    "version": 3
   },
   "file_extension": ".py",
   "mimetype": "text/x-python",
   "name": "python",
   "nbconvert_exporter": "python",
   "pygments_lexer": "ipython3",
   "version": "3.13.5"
  }
 },
 "nbformat": 4,
 "nbformat_minor": 5
}
